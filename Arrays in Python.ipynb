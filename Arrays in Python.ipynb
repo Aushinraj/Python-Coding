{
  "nbformat": 4,
  "nbformat_minor": 0,
  "metadata": {
    "colab": {
      "name": "Untitled2.ipynb",
      "provenance": [],
      "collapsed_sections": [],
      "toc_visible": true,
      "authorship_tag": "ABX9TyMIbLd/tAsaQrmO3NQ0BdQ3",
      "include_colab_link": true
    },
    "kernelspec": {
      "name": "python3",
      "display_name": "Python 3"
    },
    "language_info": {
      "name": "python"
    }
  },
  "cells": [
    {
      "cell_type": "markdown",
      "metadata": {
        "id": "view-in-github",
        "colab_type": "text"
      },
      "source": [
        "<a href=\"https://colab.research.google.com/github/Aushinraj/Python-Coding/blob/main/Arrays%20in%20Python.ipynb\" target=\"_parent\"><img src=\"https://colab.research.google.com/assets/colab-badge.svg\" alt=\"Open In Colab\"/></a>"
      ]
    },
    {
      "cell_type": "markdown",
      "metadata": {
        "id": "cDhDLHmhZU2k"
      },
      "source": [
        "# **Arrays In Python**"
      ]
    },
    {
      "cell_type": "code",
      "metadata": {
        "id": "ktCAMIaDZlLQ"
      },
      "source": [
        "import array as arr\n",
        "#or import array\n",
        "#or from array import *"
      ],
      "execution_count": 2,
      "outputs": []
    },
    {
      "cell_type": "code",
      "metadata": {
        "colab": {
          "base_uri": "https://localhost:8080/"
        },
        "id": "cjHkhWdbZ3nK",
        "outputId": "35e6b3c4-c67b-446f-849a-ebe8b873cf2e"
      },
      "source": [
        "a=arr.array('i',[1,2,3,4,7,3,9])\n",
        "a"
      ],
      "execution_count": 4,
      "outputs": [
        {
          "output_type": "execute_result",
          "data": {
            "text/plain": [
              "array('i', [1, 2, 3, 4, 7, 3, 9])"
            ]
          },
          "metadata": {
            "tags": []
          },
          "execution_count": 4
        }
      ]
    },
    {
      "cell_type": "markdown",
      "metadata": {
        "id": "4JB1_txhaohq"
      },
      "source": [
        "## **Accessing Elements**"
      ]
    },
    {
      "cell_type": "code",
      "metadata": {
        "colab": {
          "base_uri": "https://localhost:8080/"
        },
        "id": "0v9Gy7Sya1jm",
        "outputId": "c940edc6-2a12-40c4-aa60-b5444c4d98f9"
      },
      "source": [
        "a[3]"
      ],
      "execution_count": 5,
      "outputs": [
        {
          "output_type": "execute_result",
          "data": {
            "text/plain": [
              "4"
            ]
          },
          "metadata": {
            "tags": []
          },
          "execution_count": 5
        }
      ]
    },
    {
      "cell_type": "code",
      "metadata": {
        "colab": {
          "base_uri": "https://localhost:8080/"
        },
        "id": "uAxQhKnVa7O7",
        "outputId": "9b5b71ed-ff8e-4ce0-cd5b-2a7b94cf4cf3"
      },
      "source": [
        "a[-2]"
      ],
      "execution_count": 6,
      "outputs": [
        {
          "output_type": "execute_result",
          "data": {
            "text/plain": [
              "3"
            ]
          },
          "metadata": {
            "tags": []
          },
          "execution_count": 6
        }
      ]
    },
    {
      "cell_type": "markdown",
      "metadata": {
        "id": "QbZf2Qk_bH1J"
      },
      "source": [
        "# Basic Array Operations\n",
        "\n",
        "*   Length of an Array\n",
        "*   Adding/Changing Element\n",
        "*   Removing/Deleting\n",
        "*   Concatenation\n",
        "*   Slicing\n",
        "*   Looping through an Array\n",
        "\n"
      ]
    },
    {
      "cell_type": "markdown",
      "metadata": {
        "id": "XIqYr3wQca0P"
      },
      "source": [
        "## **Length of an Array**"
      ]
    },
    {
      "cell_type": "code",
      "metadata": {
        "colab": {
          "base_uri": "https://localhost:8080/"
        },
        "id": "kDQ8XMIJcj_2",
        "outputId": "a537624d-2d45-4cd9-ab45-44862b95bfdb"
      },
      "source": [
        "len(a)"
      ],
      "execution_count": 7,
      "outputs": [
        {
          "output_type": "execute_result",
          "data": {
            "text/plain": [
              "7"
            ]
          },
          "metadata": {
            "tags": []
          },
          "execution_count": 7
        }
      ]
    },
    {
      "cell_type": "markdown",
      "metadata": {
        "id": "B7ePpdoOcsdy"
      },
      "source": [
        "## **Adding Elements to an array**\n",
        "\n",
        "1.   append() : To add a single element at the end.\n",
        "2.   extend() : To add more than one element at the end, done by using list.\n",
        "3.   insert() : To add an element at a specific position.\n",
        "\n"
      ]
    },
    {
      "cell_type": "code",
      "metadata": {
        "colab": {
          "base_uri": "https://localhost:8080/"
        },
        "id": "tTiKoVFpeNX8",
        "outputId": "7a5d72c1-c89d-41bd-f8cd-9319fadbc441"
      },
      "source": [
        "a"
      ],
      "execution_count": 8,
      "outputs": [
        {
          "output_type": "execute_result",
          "data": {
            "text/plain": [
              "array('i', [1, 2, 3, 4, 7, 3, 9])"
            ]
          },
          "metadata": {
            "tags": []
          },
          "execution_count": 8
        }
      ]
    },
    {
      "cell_type": "code",
      "metadata": {
        "colab": {
          "base_uri": "https://localhost:8080/"
        },
        "id": "qUfLi1QteUQM",
        "outputId": "b716c594-1f73-48b3-ccc3-dfe96f008fa1"
      },
      "source": [
        "a.append(8)\n",
        "a"
      ],
      "execution_count": 24,
      "outputs": [
        {
          "output_type": "execute_result",
          "data": {
            "text/plain": [
              "array('i', [1, 2, 3, 4, 7, 3, 9, 8])"
            ]
          },
          "metadata": {
            "tags": []
          },
          "execution_count": 24
        }
      ]
    },
    {
      "cell_type": "code",
      "metadata": {
        "colab": {
          "base_uri": "https://localhost:8080/"
        },
        "id": "Wwua88M4eXE7",
        "outputId": "21e30cca-1a79-47fc-f568-8774c4802d4b"
      },
      "source": [
        "a.extend([9,5,4])\n",
        "a"
      ],
      "execution_count": 26,
      "outputs": [
        {
          "output_type": "execute_result",
          "data": {
            "text/plain": [
              "array('i', [1, 2, 3, 4, 7, 3, 9, 8, 9, 5, 4])"
            ]
          },
          "metadata": {
            "tags": []
          },
          "execution_count": 26
        }
      ]
    },
    {
      "cell_type": "code",
      "metadata": {
        "colab": {
          "base_uri": "https://localhost:8080/"
        },
        "id": "SAhs12GKfic3",
        "outputId": "cad5dc15-e115-4e0f-9f38-441441326109"
      },
      "source": [
        "a.insert(1,6)\n",
        "a"
      ],
      "execution_count": 27,
      "outputs": [
        {
          "output_type": "execute_result",
          "data": {
            "text/plain": [
              "array('i', [1, 6, 2, 3, 4, 7, 3, 9, 8, 9, 5, 4])"
            ]
          },
          "metadata": {
            "tags": []
          },
          "execution_count": 27
        }
      ]
    },
    {
      "cell_type": "markdown",
      "metadata": {
        "id": "0bmYCQvOf72Y"
      },
      "source": [
        "## **Removing elements of an Array**\n",
        "\n",
        "\n",
        "1.   pop() : To remove an element and return it, done by using index.\n",
        "2.   remove() : To remove an element by specifying the element.\n",
        "\n"
      ]
    },
    {
      "cell_type": "code",
      "metadata": {
        "colab": {
          "base_uri": "https://localhost:8080/"
        },
        "id": "di64ke8jgMpL",
        "outputId": "7b661918-6fff-4d65-d701-7295c3d6d931"
      },
      "source": [
        "a"
      ],
      "execution_count": 37,
      "outputs": [
        {
          "output_type": "execute_result",
          "data": {
            "text/plain": [
              "array('i', [1, 6, 2, 3, 4, 7, 3, 9, 8, 9, 5, 4])"
            ]
          },
          "metadata": {
            "tags": []
          },
          "execution_count": 37
        }
      ]
    },
    {
      "cell_type": "code",
      "metadata": {
        "colab": {
          "base_uri": "https://localhost:8080/"
        },
        "id": "h_5doJ4HhUeL",
        "outputId": "e4aec510-7628-4975-c417-1a703df1a3d3"
      },
      "source": [
        "a.pop()"
      ],
      "execution_count": 38,
      "outputs": [
        {
          "output_type": "execute_result",
          "data": {
            "text/plain": [
              "4"
            ]
          },
          "metadata": {
            "tags": []
          },
          "execution_count": 38
        }
      ]
    },
    {
      "cell_type": "code",
      "metadata": {
        "colab": {
          "base_uri": "https://localhost:8080/"
        },
        "id": "qb1m1FhShzLa",
        "outputId": "0a9cbf8c-7954-4370-d1ed-c7ea15b6198e"
      },
      "source": [
        "a.pop(-2)"
      ],
      "execution_count": 39,
      "outputs": [
        {
          "output_type": "execute_result",
          "data": {
            "text/plain": [
              "9"
            ]
          },
          "metadata": {
            "tags": []
          },
          "execution_count": 39
        }
      ]
    },
    {
      "cell_type": "code",
      "metadata": {
        "colab": {
          "base_uri": "https://localhost:8080/"
        },
        "id": "pLpOCpMHh1Ir",
        "outputId": "60a8d039-06cd-40ff-bf43-3402aacf78ba"
      },
      "source": [
        "a.pop(3)"
      ],
      "execution_count": 40,
      "outputs": [
        {
          "output_type": "execute_result",
          "data": {
            "text/plain": [
              "3"
            ]
          },
          "metadata": {
            "tags": []
          },
          "execution_count": 40
        }
      ]
    },
    {
      "cell_type": "code",
      "metadata": {
        "colab": {
          "base_uri": "https://localhost:8080/"
        },
        "id": "m4y--Gb5h8fa",
        "outputId": "82d79025-8866-4eea-81b5-2f38f0d0068a"
      },
      "source": [
        "a"
      ],
      "execution_count": 41,
      "outputs": [
        {
          "output_type": "execute_result",
          "data": {
            "text/plain": [
              "array('i', [1, 6, 2, 4, 7, 3, 9, 8, 5])"
            ]
          },
          "metadata": {
            "tags": []
          },
          "execution_count": 41
        }
      ]
    },
    {
      "cell_type": "code",
      "metadata": {
        "colab": {
          "base_uri": "https://localhost:8080/"
        },
        "id": "xrQ6nVT3h_Pr",
        "outputId": "9116b612-7555-41e2-f9f5-1cc87620928d"
      },
      "source": [
        "a.remove(6)\n",
        "a"
      ],
      "execution_count": 42,
      "outputs": [
        {
          "output_type": "execute_result",
          "data": {
            "text/plain": [
              "array('i', [1, 2, 4, 7, 3, 9, 8, 5])"
            ]
          },
          "metadata": {
            "tags": []
          },
          "execution_count": 42
        }
      ]
    },
    {
      "cell_type": "code",
      "metadata": {
        "id": "_zqYyQM3iLY_"
      },
      "source": [
        ""
      ],
      "execution_count": null,
      "outputs": []
    },
    {
      "cell_type": "markdown",
      "metadata": {
        "id": "TlLWDCcMiQB1"
      },
      "source": [
        "## **Array Concatenation**"
      ]
    },
    {
      "cell_type": "code",
      "metadata": {
        "colab": {
          "base_uri": "https://localhost:8080/"
        },
        "id": "qsUoiOXxjU3r",
        "outputId": "2934c945-4c10-49cf-c5cf-2b769a809dd4"
      },
      "source": [
        "x=arr.array('d',[1.2,3.2,2])\n",
        "y=arr.array('d',[5.6,7])\n",
        "s=arr.array('d')\n",
        "s=x+y\n",
        "s"
      ],
      "execution_count": 46,
      "outputs": [
        {
          "output_type": "execute_result",
          "data": {
            "text/plain": [
              "array('d', [1.2, 3.2, 2.0, 5.6, 7.0])"
            ]
          },
          "metadata": {
            "tags": []
          },
          "execution_count": 46
        }
      ]
    },
    {
      "cell_type": "code",
      "metadata": {
        "colab": {
          "base_uri": "https://localhost:8080/"
        },
        "id": "8qQWSy3Ij2hm",
        "outputId": "e57a228f-ec74-4c7a-85fb-0b70b262a0e1"
      },
      "source": [
        "e=arr.array('f',[1.2,3.2,2])\n",
        "f=arr.array('f',[5.6,7])\n",
        "j=arr.array('f')\n",
        "j=e+f\n",
        "j"
      ],
      "execution_count": 47,
      "outputs": [
        {
          "output_type": "execute_result",
          "data": {
            "text/plain": [
              "array('f', [1.2000000476837158, 3.200000047683716, 2.0, 5.599999904632568, 7.0])"
            ]
          },
          "metadata": {
            "tags": []
          },
          "execution_count": 47
        }
      ]
    },
    {
      "cell_type": "code",
      "metadata": {
        "colab": {
          "base_uri": "https://localhost:8080/"
        },
        "id": "COpUZ95zkEpL",
        "outputId": "e84901e7-e509-4001-e99d-68edc612f193"
      },
      "source": [
        "b=arr.array('u',['a','b'])\n",
        "c=arr.array('u',['e','g'])\n",
        "d=arr.array('u')\n",
        "d=b+c\n",
        "d"
      ],
      "execution_count": 53,
      "outputs": [
        {
          "output_type": "execute_result",
          "data": {
            "text/plain": [
              "array('u', 'abeg')"
            ]
          },
          "metadata": {
            "tags": []
          },
          "execution_count": 53
        }
      ]
    },
    {
      "cell_type": "markdown",
      "metadata": {
        "id": "xjdhDQ1KlYGe"
      },
      "source": [
        "## **Slicing an Array**"
      ]
    },
    {
      "cell_type": "code",
      "metadata": {
        "colab": {
          "base_uri": "https://localhost:8080/"
        },
        "id": "Va_RorWRlkEY",
        "outputId": "6e3c3e76-ba5a-42ae-8984-e4b1dd346463"
      },
      "source": [
        "a"
      ],
      "execution_count": 54,
      "outputs": [
        {
          "output_type": "execute_result",
          "data": {
            "text/plain": [
              "array('i', [1, 2, 4, 7, 3, 9, 8, 5])"
            ]
          },
          "metadata": {
            "tags": []
          },
          "execution_count": 54
        }
      ]
    },
    {
      "cell_type": "code",
      "metadata": {
        "colab": {
          "base_uri": "https://localhost:8080/"
        },
        "id": "UcTUFWACloAK",
        "outputId": "b21d0938-5dc6-419c-f1ea-4ec829e2624f"
      },
      "source": [
        "a[0:3]"
      ],
      "execution_count": 55,
      "outputs": [
        {
          "output_type": "execute_result",
          "data": {
            "text/plain": [
              "array('i', [1, 2, 4])"
            ]
          },
          "metadata": {
            "tags": []
          },
          "execution_count": 55
        }
      ]
    },
    {
      "cell_type": "code",
      "metadata": {
        "colab": {
          "base_uri": "https://localhost:8080/"
        },
        "id": "aO_dpUkrltyK",
        "outputId": "83d8047c-5407-4757-8c7c-c1a68786f669"
      },
      "source": [
        "a[0:-1]"
      ],
      "execution_count": 56,
      "outputs": [
        {
          "output_type": "execute_result",
          "data": {
            "text/plain": [
              "array('i', [1, 2, 4, 7, 3, 9, 8])"
            ]
          },
          "metadata": {
            "tags": []
          },
          "execution_count": 56
        }
      ]
    },
    {
      "cell_type": "markdown",
      "metadata": {
        "id": "NYSEfcPnmA6o"
      },
      "source": [
        "## **Looping Through a Array**\n",
        "\n",
        "*   for\n",
        "*   while\n",
        "\n"
      ]
    },
    {
      "cell_type": "code",
      "metadata": {
        "colab": {
          "base_uri": "https://localhost:8080/"
        },
        "id": "NfRUBc0OmITa",
        "outputId": "01d29d63-027c-4088-fe84-e03026852395"
      },
      "source": [
        "a"
      ],
      "execution_count": 57,
      "outputs": [
        {
          "output_type": "execute_result",
          "data": {
            "text/plain": [
              "array('i', [1, 2, 4, 7, 3, 9, 8, 5])"
            ]
          },
          "metadata": {
            "tags": []
          },
          "execution_count": 57
        }
      ]
    },
    {
      "cell_type": "code",
      "metadata": {
        "colab": {
          "base_uri": "https://localhost:8080/"
        },
        "id": "M51vBFdsmPiR",
        "outputId": "bc293bb4-9364-4b5a-9611-6d444a0ca147"
      },
      "source": [
        "for x in a:\n",
        "  print(x)"
      ],
      "execution_count": 58,
      "outputs": [
        {
          "output_type": "stream",
          "text": [
            "1\n",
            "2\n",
            "4\n",
            "7\n",
            "3\n",
            "9\n",
            "8\n",
            "5\n"
          ],
          "name": "stdout"
        }
      ]
    },
    {
      "cell_type": "code",
      "metadata": {
        "colab": {
          "base_uri": "https://localhost:8080/"
        },
        "id": "etwDjU39mXrK",
        "outputId": "866e6f93-af3d-4381-a8dc-e82f5edf8538"
      },
      "source": [
        "for x in a[0:3]:\n",
        "  print(x)"
      ],
      "execution_count": 59,
      "outputs": [
        {
          "output_type": "stream",
          "text": [
            "1\n",
            "2\n",
            "4\n"
          ],
          "name": "stdout"
        }
      ]
    },
    {
      "cell_type": "markdown",
      "metadata": {
        "id": "W_L67hOImmAX"
      },
      "source": [
        "*while*"
      ]
    },
    {
      "cell_type": "code",
      "metadata": {
        "colab": {
          "base_uri": "https://localhost:8080/"
        },
        "id": "KkVqr9gimqg6",
        "outputId": "581e5899-d6e9-4558-c031-fa19b69ceaa2"
      },
      "source": [
        "t=0\n",
        "while t<len(a):\n",
        "  print(a[t])\n",
        "  t=t+1"
      ],
      "execution_count": 61,
      "outputs": [
        {
          "output_type": "stream",
          "text": [
            "1\n",
            "2\n",
            "4\n",
            "7\n",
            "3\n",
            "9\n",
            "8\n",
            "5\n"
          ],
          "name": "stdout"
        }
      ]
    },
    {
      "cell_type": "markdown",
      "metadata": {
        "id": "NCbpX6LBnZ6x"
      },
      "source": [
        "## Reverse an Array"
      ]
    },
    {
      "cell_type": "code",
      "metadata": {
        "colab": {
          "base_uri": "https://localhost:8080/"
        },
        "id": "qvayS6BjnfJ3",
        "outputId": "ef24f4f0-2c45-4fa1-aeda-10cbc73089ab"
      },
      "source": [
        "a"
      ],
      "execution_count": 62,
      "outputs": [
        {
          "output_type": "execute_result",
          "data": {
            "text/plain": [
              "array('i', [1, 2, 4, 7, 3, 9, 8, 5])"
            ]
          },
          "metadata": {
            "tags": []
          },
          "execution_count": 62
        }
      ]
    },
    {
      "cell_type": "code",
      "metadata": {
        "colab": {
          "base_uri": "https://localhost:8080/"
        },
        "id": "m3_BPVBfngAp",
        "outputId": "c3998f86-46c1-4cea-8563-1f0c71e1c02c"
      },
      "source": [
        "a[::-1]"
      ],
      "execution_count": 63,
      "outputs": [
        {
          "output_type": "execute_result",
          "data": {
            "text/plain": [
              "array('i', [5, 8, 9, 3, 7, 4, 2, 1])"
            ]
          },
          "metadata": {
            "tags": []
          },
          "execution_count": 63
        }
      ]
    },
    {
      "cell_type": "code",
      "metadata": {
        "colab": {
          "base_uri": "https://localhost:8080/"
        },
        "id": "SwFlnwQkniTL",
        "outputId": "e457093d-84b8-4408-a80a-68ca87e029e2"
      },
      "source": [
        "a"
      ],
      "execution_count": 64,
      "outputs": [
        {
          "output_type": "execute_result",
          "data": {
            "text/plain": [
              "array('i', [1, 2, 4, 7, 3, 9, 8, 5])"
            ]
          },
          "metadata": {
            "tags": []
          },
          "execution_count": 64
        }
      ]
    }
  ]
}