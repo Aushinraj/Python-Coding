{
  "nbformat": 4,
  "nbformat_minor": 0,
  "metadata": {
    "colab": {
      "name": "Untitled16.ipynb",
      "provenance": [],
      "authorship_tag": "ABX9TyMX6cZUmLIJh6Pxv/Tm21ju",
      "include_colab_link": true
    },
    "kernelspec": {
      "name": "python3",
      "display_name": "Python 3"
    },
    "language_info": {
      "name": "python"
    }
  },
  "cells": [
    {
      "cell_type": "markdown",
      "metadata": {
        "id": "view-in-github",
        "colab_type": "text"
      },
      "source": [
        "<a href=\"https://colab.research.google.com/github/Aushinraj/Python-Coding/blob/main/Untitled16.ipynb\" target=\"_parent\"><img src=\"https://colab.research.google.com/assets/colab-badge.svg\" alt=\"Open In Colab\"/></a>"
      ]
    },
    {
      "cell_type": "markdown",
      "metadata": {
        "id": "4H58P51L08H5"
      },
      "source": [
        "**Pgm to reverse a string except the first and last characters**"
      ]
    },
    {
      "cell_type": "code",
      "metadata": {
        "colab": {
          "base_uri": "https://localhost:8080/"
        },
        "id": "iX7xfdowbJ9o",
        "outputId": "f1eac469-c8ef-4db2-ac5d-414adae0c168"
      },
      "source": [
        "s=input()\n",
        "print(s[0]+s[1:len(s)-1][::-1]+s[len(s)-1])"
      ],
      "execution_count": 114,
      "outputs": [
        {
          "output_type": "stream",
          "text": [
            "awesome\n",
            "amosewe\n"
          ],
          "name": "stdout"
        }
      ]
    },
    {
      "cell_type": "code",
      "metadata": {
        "colab": {
          "base_uri": "https://localhost:8080/"
        },
        "id": "SvCqvMfEbUcg",
        "outputId": "c2ad8a83-8282-4c57-abb5-e6adb15af8fa"
      },
      "source": [
        "ord('a')"
      ],
      "execution_count": 115,
      "outputs": [
        {
          "output_type": "execute_result",
          "data": {
            "text/plain": [
              "97"
            ]
          },
          "metadata": {
            "tags": []
          },
          "execution_count": 115
        }
      ]
    },
    {
      "cell_type": "code",
      "metadata": {
        "colab": {
          "base_uri": "https://localhost:8080/",
          "height": 35
        },
        "id": "WBVEeqrQdGuH",
        "outputId": "57a02a10-bab0-4d95-ed45-94df7b8f4ea5"
      },
      "source": [
        "chr(97)"
      ],
      "execution_count": 20,
      "outputs": [
        {
          "output_type": "execute_result",
          "data": {
            "application/vnd.google.colaboratory.intrinsic+json": {
              "type": "string"
            },
            "text/plain": [
              "'a'"
            ]
          },
          "metadata": {
            "tags": []
          },
          "execution_count": 20
        }
      ]
    },
    {
      "cell_type": "code",
      "metadata": {
        "colab": {
          "base_uri": "https://localhost:8080/"
        },
        "id": "FGq4Pn-8dn7a",
        "outputId": "32db883c-a04b-4f74-dcd8-3d9cc31244a9"
      },
      "source": [
        "from functools import reduce\n",
        "f=input()\n",
        "f=[int(num) for num in f.split()]\n",
        "s=reduce(lambda x,y:x+y,f)\n",
        "print(s)"
      ],
      "execution_count": 50,
      "outputs": [
        {
          "output_type": "stream",
          "text": [
            "1 2 3\n",
            "6\n"
          ],
          "name": "stdout"
        }
      ]
    },
    {
      "cell_type": "code",
      "metadata": {
        "colab": {
          "base_uri": "https://localhost:8080/"
        },
        "id": "A7TXTpNWjDmx",
        "outputId": "b989db0a-f14a-4edb-9514-4dd0596ebb11"
      },
      "source": [
        "f=input()\n",
        "f=[int(num) for num in f.split()]\n",
        "s=map(lambda x:x+x,f)\n",
        "print(list(s))"
      ],
      "execution_count": 52,
      "outputs": [
        {
          "output_type": "stream",
          "text": [
            "1 2 3\n",
            "[2, 4, 6]\n"
          ],
          "name": "stdout"
        }
      ]
    },
    {
      "cell_type": "markdown",
      "metadata": {
        "id": "67ft6oYlz92h"
      },
      "source": [
        "**Pgm to print most occuring character(s) in a sentence**"
      ]
    },
    {
      "cell_type": "code",
      "metadata": {
        "colab": {
          "base_uri": "https://localhost:8080/"
        },
        "id": "UEb8bkoloz0g",
        "outputId": "0dc50d97-fc75-4c34-f139-17607352d6d9"
      },
      "source": [
        "from collections import Counter\n",
        "x= Counter(input())\n",
        "y=dict(x)\n",
        "del y[' ']\n",
        "m=max(y.values())\n",
        "for i,k in y.items():\n",
        "  if k==m:\n",
        "    print(i)"
      ],
      "execution_count": 113,
      "outputs": [
        {
          "output_type": "stream",
          "text": [
            "thor is awesome\n",
            "o\n",
            "s\n",
            "e\n"
          ],
          "name": "stdout"
        }
      ]
    },
    {
      "cell_type": "markdown",
      "metadata": {
        "id": "r_V1YrOy2wMw"
      },
      "source": [
        "**Pgm to print factorial of a given number**"
      ]
    },
    {
      "cell_type": "code",
      "metadata": {
        "colab": {
          "base_uri": "https://localhost:8080/"
        },
        "id": "b0PsOHTLyJ3h",
        "outputId": "0fab8531-d649-4278-9e1a-59634ed96fb7"
      },
      "source": [
        "n=int(input())\n",
        "fact=1\n",
        "for i in range(1,n+1):\n",
        "  fact=fact*i\n",
        "print(fact)"
      ],
      "execution_count": 118,
      "outputs": [
        {
          "output_type": "stream",
          "text": [
            "5\n",
            "120\n"
          ],
          "name": "stdout"
        }
      ]
    },
    {
      "cell_type": "code",
      "metadata": {
        "colab": {
          "base_uri": "https://localhost:8080/"
        },
        "id": "QHp_4Hlg2bcp",
        "outputId": "d3c2bca2-c01d-437f-e5ec-14961cd13101"
      },
      "source": [
        "for i in range(1,6):\n",
        "  for j in range(1,i+1):\n",
        "    print('*', end=\"\")\n",
        "  print(\"\")"
      ],
      "execution_count": 151,
      "outputs": [
        {
          "output_type": "stream",
          "text": [
            "*\n",
            "**\n",
            "***\n",
            "****\n",
            "*****\n"
          ],
          "name": "stdout"
        }
      ]
    },
    {
      "cell_type": "code",
      "metadata": {
        "colab": {
          "base_uri": "https://localhost:8080/"
        },
        "id": "ec1I4GBF3Moq",
        "outputId": "6da66cbe-082d-4dee-9c83-adca7274e816"
      },
      "source": [
        "x=65\n",
        "for i in range(0,5):\n",
        "  for j in range(0,i+1):\n",
        "    print(chr(x), end=\"\")\n",
        "    x=x+1\n",
        "  print(chr(x),end=\"\")\n",
        "  print(\"\")"
      ],
      "execution_count": 148,
      "outputs": [
        {
          "output_type": "stream",
          "text": [
            "AB\n",
            "BCD\n",
            "DEFG\n",
            "GHIJK\n",
            "KLMNOP\n"
          ],
          "name": "stdout"
        }
      ]
    },
    {
      "cell_type": "code",
      "metadata": {
        "colab": {
          "base_uri": "https://localhost:8080/"
        },
        "id": "ROdpyHOZ6uyC",
        "outputId": "ad1fc0c0-1676-445c-ca38-c265d5822187"
      },
      "source": [
        "for i in range(1,6):\n",
        "  print((5-i)*\" \",end=\"\")\n",
        "  for j in range(1,i+1):\n",
        "    print('*', end=\"\")\n",
        "  print(\"\")"
      ],
      "execution_count": 171,
      "outputs": [
        {
          "output_type": "stream",
          "text": [
            "    *\n",
            "   **\n",
            "  ***\n",
            " ****\n",
            "*****\n"
          ],
          "name": "stdout"
        }
      ]
    },
    {
      "cell_type": "code",
      "metadata": {
        "id": "964fLePW_z04"
      },
      "source": [
        ""
      ],
      "execution_count": null,
      "outputs": []
    }
  ]
}