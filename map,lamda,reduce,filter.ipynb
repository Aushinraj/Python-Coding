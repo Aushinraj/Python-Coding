{
  "nbformat": 4,
  "nbformat_minor": 0,
  "metadata": {
    "colab": {
      "name": "Untitled3.ipynb",
      "provenance": [],
      "authorship_tag": "ABX9TyNPIgFxuct6dql5LIX9ZExf",
      "include_colab_link": true
    },
    "kernelspec": {
      "name": "python3",
      "display_name": "Python 3"
    },
    "language_info": {
      "name": "python"
    }
  },
  "cells": [
    {
      "cell_type": "markdown",
      "metadata": {
        "id": "view-in-github",
        "colab_type": "text"
      },
      "source": [
        "<a href=\"https://colab.research.google.com/github/Aushinraj/Python-Coding/blob/main/map%2Clamda%2Creduce%2Cfilter.ipynb\" target=\"_parent\"><img src=\"https://colab.research.google.com/assets/colab-badge.svg\" alt=\"Open In Colab\"/></a>"
      ]
    },
    {
      "cell_type": "markdown",
      "metadata": {
        "id": "3xhHt5VjGO8I"
      },
      "source": [
        "# **Lambda Function** , **Map()** , **Filter()** & **Reduce()**"
      ]
    },
    {
      "cell_type": "markdown",
      "metadata": {
        "id": "CuJpdDxiHJyj"
      },
      "source": [
        "## **Lambda Function**\n",
        "*Syntax :* **lambda arguments : expression**\n",
        "\n",
        "\n",
        "* It can have any number of arguments ,but only one expression.\n",
        "* Eg: lambda x,y: x+y\n",
        "* This functioin is used as a argument in higher order function.\n",
        "\n",
        "\n",
        "\n",
        "\n"
      ]
    },
    {
      "cell_type": "markdown",
      "metadata": {
        "id": "16XPn_efKOUx"
      },
      "source": [
        "## **Map**\n",
        "*syntax :* **map(func,iterables)**\n",
        "\n",
        "\n",
        "*   map() applies a given function to all the iterables and returns a map object.\n",
        "*   map() can take either lamda or user defined function as parameter.\n",
        "\n",
        "*   Iterables can be a list,tuple\n",
        "\n",
        "\n",
        "\n"
      ]
    },
    {
      "cell_type": "code",
      "metadata": {
        "colab": {
          "base_uri": "https://localhost:8080/"
        },
        "id": "J-xV1YU_Kboo",
        "outputId": "891bd231-67ad-4289-9e0d-49ba28a473f3"
      },
      "source": [
        "#User defined funcc\n",
        "def new(a):\n",
        "  return a*a\n",
        "x=map(new,[1,2,3,4])\n",
        "print(x)"
      ],
      "execution_count": 9,
      "outputs": [
        {
          "output_type": "stream",
          "text": [
            "<map object at 0x7fbfa7ef7e10>\n"
          ],
          "name": "stdout"
        }
      ]
    },
    {
      "cell_type": "code",
      "metadata": {
        "colab": {
          "base_uri": "https://localhost:8080/"
        },
        "id": "lXO9-lS0M2m6",
        "outputId": "5060d383-ff82-46d4-dcdf-750db7d76bea"
      },
      "source": [
        "print(list(x))"
      ],
      "execution_count": 10,
      "outputs": [
        {
          "output_type": "stream",
          "text": [
            "[1, 4, 9, 16]\n"
          ],
          "name": "stdout"
        }
      ]
    },
    {
      "cell_type": "code",
      "metadata": {
        "colab": {
          "base_uri": "https://localhost:8080/"
        },
        "id": "dPR1QAgOM5wY",
        "outputId": "1e26c15d-adfb-4aa8-c721-7a04a462dd67"
      },
      "source": [
        "#2 iterables\n",
        "def new(a,b):\n",
        "  return a*b\n",
        "x=map(new,[1,2,3,4],[3,4,5,2])\n",
        "print(tuple(x))"
      ],
      "execution_count": 11,
      "outputs": [
        {
          "output_type": "stream",
          "text": [
            "(3, 8, 15, 8)\n"
          ],
          "name": "stdout"
        }
      ]
    },
    {
      "cell_type": "code",
      "metadata": {
        "colab": {
          "base_uri": "https://localhost:8080/"
        },
        "id": "GJcYIfFdN-hZ",
        "outputId": "8db9cadf-7d17-481b-d4e3-36c642d4a229"
      },
      "source": [
        "#lambda\n",
        "l=[1,2,3,4,5]\n",
        "y=list((map(lambda x:x+3,l)))\n",
        "print(y)"
      ],
      "execution_count": 18,
      "outputs": [
        {
          "output_type": "stream",
          "text": [
            "[4, 5, 6, 7, 8]\n"
          ],
          "name": "stdout"
        }
      ]
    },
    {
      "cell_type": "markdown",
      "metadata": {
        "id": "TKu-2xIrPrzr"
      },
      "source": [
        "## **Filter**\n",
        "*syntax :* **filter(func,iterables)**\n",
        "\n",
        "\n",
        "*   filter() method filters the given sequence with the help of a function that tests each element in the sequence to be true or not.\n",
        "\n"
      ]
    },
    {
      "cell_type": "code",
      "metadata": {
        "colab": {
          "base_uri": "https://localhost:8080/"
        },
        "id": "XmuVTQbcP8J0",
        "outputId": "309041ae-724c-4f36-e166-2a0f47d97c77"
      },
      "source": [
        "def d(i):\n",
        "  if i>=3:\n",
        "    return i\n",
        "j=tuple(filter(d,(1,2,3,4,5,6)))\n",
        "print(j)"
      ],
      "execution_count": 19,
      "outputs": [
        {
          "output_type": "stream",
          "text": [
            "(3, 4, 5, 6)\n"
          ],
          "name": "stdout"
        }
      ]
    },
    {
      "cell_type": "code",
      "metadata": {
        "colab": {
          "base_uri": "https://localhost:8080/"
        },
        "id": "MF408VQFQpEY",
        "outputId": "3de932ac-676c-42a6-fab8-05ab47779f0f"
      },
      "source": [
        "z=list(filter(lambda x:(x>=3),(1,2,3,4,5,6)))\n",
        "print(z)"
      ],
      "execution_count": 20,
      "outputs": [
        {
          "output_type": "stream",
          "text": [
            "[3, 4, 5, 6]\n"
          ],
          "name": "stdout"
        }
      ]
    },
    {
      "cell_type": "markdown",
      "metadata": {
        "id": "4HgB2tJiR3wW"
      },
      "source": [
        "## **Reduce**\n",
        "*syntax :* **reduce(func,iterables)**\n",
        "\n",
        "\n",
        "* The reduce() applies the given function to all the iterables and finally returns a single value.\n",
        "\n"
      ]
    },
    {
      "cell_type": "code",
      "metadata": {
        "colab": {
          "base_uri": "https://localhost:8080/"
        },
        "id": "KxO7qH3tRJeJ",
        "outputId": "024df52f-c17e-43f7-854e-0a7857b01af7"
      },
      "source": [
        "from functools import reduce\n",
        "def g(x,y):\n",
        "  return x+y\n",
        "s=reduce(g,[1,3,4,5,6,7,7,7,8])\n",
        "print(s)\n"
      ],
      "execution_count": 21,
      "outputs": [
        {
          "output_type": "stream",
          "text": [
            "48\n"
          ],
          "name": "stdout"
        }
      ]
    },
    {
      "cell_type": "code",
      "metadata": {
        "colab": {
          "base_uri": "https://localhost:8080/"
        },
        "id": "7Nh8egOmTg00",
        "outputId": "0754681e-eefe-492b-9347-a87530fbbf46"
      },
      "source": [
        "t=reduce(lambda q,p: q*p,[1,2,3,4,5,6])\n",
        "t"
      ],
      "execution_count": 22,
      "outputs": [
        {
          "output_type": "execute_result",
          "data": {
            "text/plain": [
              "720"
            ]
          },
          "metadata": {
            "tags": []
          },
          "execution_count": 22
        }
      ]
    },
    {
      "cell_type": "markdown",
      "metadata": {
        "id": "3K0KVogbT1En"
      },
      "source": [
        "## filter() within map()"
      ]
    },
    {
      "cell_type": "code",
      "metadata": {
        "colab": {
          "base_uri": "https://localhost:8080/"
        },
        "id": "BeM-wYDtT-Y5",
        "outputId": "0143bf1c-30bc-4e1d-9240-1cff21db353d"
      },
      "source": [
        "c=map(lambda x: x+x,filter(lambda x: (x>=4),[2,3,4,5,6]))\n",
        "print(tuple(c))"
      ],
      "execution_count": 27,
      "outputs": [
        {
          "output_type": "stream",
          "text": [
            "(8, 10, 12)\n"
          ],
          "name": "stdout"
        }
      ]
    },
    {
      "cell_type": "markdown",
      "metadata": {
        "id": "IjcwWty4UxDq"
      },
      "source": [
        "## map() within filter()"
      ]
    },
    {
      "cell_type": "code",
      "metadata": {
        "colab": {
          "base_uri": "https://localhost:8080/"
        },
        "id": "AiwFC_dmTwzE",
        "outputId": "3b0539bc-5985-4a90-e982-a42927f7486c"
      },
      "source": [
        "v=filter(lambda x: (x>=4),map(lambda x:x+x,[2,3,4,5,6]))\n",
        "print(set(v))"
      ],
      "execution_count": 29,
      "outputs": [
        {
          "output_type": "stream",
          "text": [
            "{4, 6, 8, 10, 12}\n"
          ],
          "name": "stdout"
        }
      ]
    },
    {
      "cell_type": "markdown",
      "metadata": {
        "id": "w-jnsln9VWuw"
      },
      "source": [
        "## map() and filter() within reduce()"
      ]
    },
    {
      "cell_type": "code",
      "metadata": {
        "colab": {
          "base_uri": "https://localhost:8080/"
        },
        "id": "OVeedkIYVNbm",
        "outputId": "4a7ec8a9-eb32-4469-a538-318e8ff6c87d"
      },
      "source": [
        "r=reduce(lambda x,y:x+y,map(lambda x:x+x,filter(lambda x: (x<=4),(1,2,3,4,5,6,7))))\n",
        "print(r)"
      ],
      "execution_count": 37,
      "outputs": [
        {
          "output_type": "stream",
          "text": [
            "20\n"
          ],
          "name": "stdout"
        }
      ]
    }
  ]
}