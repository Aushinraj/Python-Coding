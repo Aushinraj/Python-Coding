{
  "nbformat": 4,
  "nbformat_minor": 0,
  "metadata": {
    "colab": {
      "name": "Copy of Copy of Untitled23.ipynb",
      "provenance": [],
      "authorship_tag": "ABX9TyNnu2F1FVP69UG/5KLtRMhd",
      "include_colab_link": true
    },
    "kernelspec": {
      "name": "python3",
      "display_name": "Python 3"
    },
    "language_info": {
      "name": "python"
    }
  },
  "cells": [
    {
      "cell_type": "markdown",
      "metadata": {
        "id": "view-in-github",
        "colab_type": "text"
      },
      "source": [
        "<a href=\"https://colab.research.google.com/github/Aushinraj/Python-Coding/blob/main/Simple%20pgm.ipynb\" target=\"_parent\"><img src=\"https://colab.research.google.com/assets/colab-badge.svg\" alt=\"Open In Colab\"/></a>"
      ]
    },
    {
      "cell_type": "markdown",
      "metadata": {
        "id": "HP8ZJAz7UURe"
      },
      "source": [
        "**Reverse of a number**"
      ]
    },
    {
      "cell_type": "code",
      "metadata": {
        "colab": {
          "base_uri": "https://localhost:8080/"
        },
        "id": "JD1VFUS2UY8Q",
        "outputId": "7ab735d9-041e-471f-9f49-405a1144b207"
      },
      "source": [
        "def rev(n):\n",
        "  r=0\n",
        "  while(n>0):\n",
        "    r = r*10 + n%10\n",
        "    n=n//10\n",
        "  return r\n",
        "\n",
        "x=int(input(\"Enter the number:\"))\n",
        "rev(x)\n"
      ],
      "execution_count": null,
      "outputs": [
        {
          "name": "stdout",
          "output_type": "stream",
          "text": [
            "Enter the number:1234\n"
          ]
        },
        {
          "output_type": "execute_result",
          "data": {
            "text/plain": [
              "4321"
            ]
          },
          "metadata": {},
          "execution_count": 5
        }
      ]
    },
    {
      "cell_type": "markdown",
      "metadata": {
        "id": "gmAKmw9aWdot"
      },
      "source": [
        "**Palindrome**"
      ]
    },
    {
      "cell_type": "code",
      "metadata": {
        "colab": {
          "base_uri": "https://localhost:8080/"
        },
        "id": "n69MgAzNVNis",
        "outputId": "4bca26c0-7760-4765-c805-dccc9960572e"
      },
      "source": [
        "def rev(n):\n",
        "  r=0\n",
        "  while(n>0):\n",
        "    r = r*10 + n%10\n",
        "    n=n//10\n",
        "  return r\n",
        "\n",
        "num=int(input(\"Enter the no:\"))\n",
        "reverse=rev(num)\n",
        "if num ==reverse:\n",
        "  print(\"Palindrome\")\n",
        "else:\n",
        "  print(\"Not a Palindrome\")"
      ],
      "execution_count": null,
      "outputs": [
        {
          "output_type": "stream",
          "name": "stdout",
          "text": [
            "Enter the no:1221\n",
            "Palindrome\n"
          ]
        }
      ]
    },
    {
      "cell_type": "markdown",
      "metadata": {
        "id": "glOD1D3RZaMs"
      },
      "source": [
        "**Prime number**"
      ]
    },
    {
      "cell_type": "code",
      "metadata": {
        "colab": {
          "base_uri": "https://localhost:8080/"
        },
        "id": "donGYGolW_s_",
        "outputId": "127c8745-0d8a-4f71-b162-2e4fe99d750d"
      },
      "source": [
        "n=int(input(\"Enter The No: \"))\n",
        "if n>1:\n",
        "\n",
        "  for i in range(2, int(n/2)+1):\n",
        "    if n%i==0:\n",
        "      print(\"Not a Prime number\")\n",
        "      break\n",
        "  else:\n",
        "    print(\"Prime number\")\n",
        "else:\n",
        "  print(\"Not a prime number\")"
      ],
      "execution_count": null,
      "outputs": [
        {
          "output_type": "stream",
          "name": "stdout",
          "text": [
            "Enter The No: 23\n",
            "Prime number\n"
          ]
        }
      ]
    },
    {
      "cell_type": "markdown",
      "metadata": {
        "id": "FpbltaWZdaFA"
      },
      "source": [
        "**Factorial**"
      ]
    },
    {
      "cell_type": "code",
      "metadata": {
        "id": "BSgluqLucOEY",
        "colab": {
          "base_uri": "https://localhost:8080/"
        },
        "outputId": "8a92367f-f273-41df-eefc-3a5f3876fb0d"
      },
      "source": [
        "n=int(input(\"Enter the Number:\"))\n",
        "fact=1\n",
        "if n==0:\n",
        "  print(\"1\")\n",
        "else:\n",
        "  for i in range(1,n+1):\n",
        "    fact=fact*i\n",
        "  print(fact)\n"
      ],
      "execution_count": null,
      "outputs": [
        {
          "output_type": "stream",
          "name": "stdout",
          "text": [
            "Enter the Number:10\n",
            "3628800\n"
          ]
        }
      ]
    },
    {
      "cell_type": "markdown",
      "metadata": {
        "id": "6LT1Mg9L_LvC"
      },
      "source": [
        "**Fibonacci series**\n",
        "*(using recursion)*\n"
      ]
    },
    {
      "cell_type": "code",
      "metadata": {
        "id": "zsbTxNl6ebOt",
        "outputId": "474258b4-3fe4-4aef-b356-3b3d339d9ba7",
        "colab": {
          "base_uri": "https://localhost:8080/"
        }
      },
      "source": [
        "def fib(n):\n",
        "  if n<0:\n",
        "    print(\"invalid input\")\n",
        "  elif n==0:\n",
        "    return 0\n",
        "  elif n==1:\n",
        "    return 1\n",
        "  else:\n",
        "    return fib(n-1)+fib(n-2)\n",
        "\n",
        "n=int(input(\"Enter n: \"))\n",
        "fib(n)\n"
      ],
      "execution_count": 3,
      "outputs": [
        {
          "name": "stdout",
          "output_type": "stream",
          "text": [
            "Enter n: 9\n"
          ]
        },
        {
          "output_type": "execute_result",
          "data": {
            "text/plain": [
              "34"
            ]
          },
          "metadata": {},
          "execution_count": 3
        }
      ]
    },
    {
      "cell_type": "markdown",
      "metadata": {
        "id": "uqA4eXQXBDzR"
      },
      "source": [
        "**Fibonacci series**\n",
        "*using Dynamic programming*"
      ]
    },
    {
      "cell_type": "code",
      "metadata": {
        "id": "XPPn3Z03Aput",
        "outputId": "e2099f9f-61d8-4cf5-91f7-83c7826f6c7b",
        "colab": {
          "base_uri": "https://localhost:8080/"
        }
      },
      "source": [
        "n=int(input(\"Enter n: \"))\n",
        "fib=[0,1]\n",
        "for i in range(2,n+1):\n",
        "  fib.append(fib[i-1]+fib[i-2])\n",
        "print(fib[n])\n"
      ],
      "execution_count": 20,
      "outputs": [
        {
          "output_type": "stream",
          "name": "stdout",
          "text": [
            "Enter n: 9\n",
            "34\n"
          ]
        }
      ]
    },
    {
      "cell_type": "code",
      "metadata": {
        "id": "VQLtAiAiB7iw"
      },
      "source": [
        ""
      ],
      "execution_count": 21,
      "outputs": []
    },
    {
      "cell_type": "code",
      "metadata": {
        "id": "TEOh2PruCwLv"
      },
      "source": [
        ""
      ],
      "execution_count": null,
      "outputs": []
    }
  ]
}