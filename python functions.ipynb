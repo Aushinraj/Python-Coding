{
  "nbformat": 4,
  "nbformat_minor": 0,
  "metadata": {
    "colab": {
      "name": "Untitled21.ipynb",
      "provenance": [],
      "authorship_tag": "ABX9TyMuOSUjt+Un+cpVOYkEsbrQ",
      "include_colab_link": true
    },
    "kernelspec": {
      "name": "python3",
      "display_name": "Python 3"
    },
    "language_info": {
      "name": "python"
    }
  },
  "cells": [
    {
      "cell_type": "markdown",
      "metadata": {
        "id": "view-in-github",
        "colab_type": "text"
      },
      "source": [
        "<a href=\"https://colab.research.google.com/github/Aushinraj/Python-Coding/blob/main/python%20functions.ipynb\" target=\"_parent\"><img src=\"https://colab.research.google.com/assets/colab-badge.svg\" alt=\"Open In Colab\"/></a>"
      ]
    },
    {
      "cell_type": "markdown",
      "metadata": {
        "id": "6xR3hQWlS0Cb"
      },
      "source": [
        "# **join()** \n",
        "join() method takes all items in an iterable and joins them into one string.\n",
        "\n"
      ]
    },
    {
      "cell_type": "code",
      "metadata": {
        "colab": {
          "base_uri": "https://localhost:8080/"
        },
        "id": "4kqjNYiGS51b",
        "outputId": "43858358-25e3-416b-b307-b33ad71936d4"
      },
      "source": [
        "t= (\"john\",\"Peter\",\"Vicky\")\n",
        "print(\"#\".join(t))"
      ],
      "execution_count": 2,
      "outputs": [
        {
          "output_type": "stream",
          "name": "stdout",
          "text": [
            "john#Peter#Vicky\n"
          ]
        }
      ]
    },
    {
      "cell_type": "code",
      "metadata": {
        "colab": {
          "base_uri": "https://localhost:8080/"
        },
        "id": "A-qrdRNcXrdh",
        "outputId": "c1896791-828e-419e-9579-7f53833f02ca"
      },
      "source": [
        "t1= (\"john\",\"Peter\",\"Vicky\")\n",
        "print(\"\\n\".join(t1))"
      ],
      "execution_count": 3,
      "outputs": [
        {
          "output_type": "stream",
          "name": "stdout",
          "text": [
            "john\n",
            "Peter\n",
            "Vicky\n"
          ]
        }
      ]
    },
    {
      "cell_type": "markdown",
      "metadata": {
        "id": "_3_pSpuM1YOd"
      },
      "source": [
        "# **split()**\n",
        "split() method splits a string into a list\n",
        "\n",
        "**syntax :**  string.split(separator , maxsplit)\n",
        "\n"
      ]
    },
    {
      "cell_type": "code",
      "metadata": {
        "colab": {
          "base_uri": "https://localhost:8080/"
        },
        "id": "DIs0-Luc19Bp",
        "outputId": "4b512eba-2b63-4940-b04c-4c7c70b77f54"
      },
      "source": [
        "txt = \"welcome to the jungle\"\n",
        "x=txt.split()\n",
        "print(x)"
      ],
      "execution_count": 1,
      "outputs": [
        {
          "output_type": "stream",
          "name": "stdout",
          "text": [
            "['welcome', 'to', 'the', 'jungle']\n"
          ]
        }
      ]
    },
    {
      "cell_type": "code",
      "metadata": {
        "colab": {
          "base_uri": "https://localhost:8080/"
        },
        "id": "6hmlljxp2bGM",
        "outputId": "375d9e9e-a97d-4980-fa2b-3389fa37642c"
      },
      "source": [
        "p=\"apple#banana#cherry#orange\"\n",
        "x=p.split(\"#\")\n",
        "print(x)"
      ],
      "execution_count": 3,
      "outputs": [
        {
          "output_type": "stream",
          "name": "stdout",
          "text": [
            "['apple', 'banana', 'cherry', 'orange']\n"
          ]
        }
      ]
    },
    {
      "cell_type": "code",
      "metadata": {
        "colab": {
          "base_uri": "https://localhost:8080/"
        },
        "id": "B6IKQjsu2t2Q",
        "outputId": "abc5cba9-7df4-410c-b8d2-eaedaad47558"
      },
      "source": [
        "q=\"apple#banana#cherry#orange\"\n",
        "x=q.split(\"#\",1) #setting the maxsplit parameter to 1 , will return a list with 2 elements\n",
        "print(x)"
      ],
      "execution_count": 5,
      "outputs": [
        {
          "output_type": "stream",
          "name": "stdout",
          "text": [
            "['apple', 'banana#cherry#orange']\n"
          ]
        }
      ]
    }
  ]
}