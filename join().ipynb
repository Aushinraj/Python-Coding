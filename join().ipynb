{
  "nbformat": 4,
  "nbformat_minor": 0,
  "metadata": {
    "colab": {
      "name": "Untitled21.ipynb",
      "provenance": [],
      "authorship_tag": "ABX9TyO8enE7dD2Fvn1mqZF1DNfc",
      "include_colab_link": true
    },
    "kernelspec": {
      "name": "python3",
      "display_name": "Python 3"
    },
    "language_info": {
      "name": "python"
    }
  },
  "cells": [
    {
      "cell_type": "markdown",
      "metadata": {
        "id": "view-in-github",
        "colab_type": "text"
      },
      "source": [
        "<a href=\"https://colab.research.google.com/github/Aushinraj/Python-Coding/blob/main/join().ipynb\" target=\"_parent\"><img src=\"https://colab.research.google.com/assets/colab-badge.svg\" alt=\"Open In Colab\"/></a>"
      ]
    },
    {
      "cell_type": "markdown",
      "metadata": {
        "id": "6xR3hQWlS0Cb"
      },
      "source": [
        "# join() \n",
        "join() method takes all items in an iterable and joins them into one string.\n",
        "\n"
      ]
    },
    {
      "cell_type": "code",
      "metadata": {
        "colab": {
          "base_uri": "https://localhost:8080/"
        },
        "id": "4kqjNYiGS51b",
        "outputId": "43858358-25e3-416b-b307-b33ad71936d4"
      },
      "source": [
        "t= (\"john\",\"Peter\",\"Vicky\")\n",
        "print(\"#\".join(t))"
      ],
      "execution_count": 2,
      "outputs": [
        {
          "output_type": "stream",
          "name": "stdout",
          "text": [
            "john#Peter#Vicky\n"
          ]
        }
      ]
    },
    {
      "cell_type": "code",
      "metadata": {
        "colab": {
          "base_uri": "https://localhost:8080/"
        },
        "id": "A-qrdRNcXrdh",
        "outputId": "c1896791-828e-419e-9579-7f53833f02ca"
      },
      "source": [
        "t1= (\"john\",\"Peter\",\"Vicky\")\n",
        "print(\"\\n\".join(t1))"
      ],
      "execution_count": 3,
      "outputs": [
        {
          "output_type": "stream",
          "name": "stdout",
          "text": [
            "john\n",
            "Peter\n",
            "Vicky\n"
          ]
        }
      ]
    }
  ]
}